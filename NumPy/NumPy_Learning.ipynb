{
 "cells": [
  {
   "cell_type": "code",
   "execution_count": 16,
   "id": "9310ac26-0c89-4b06-82d8-cad61b350409",
   "metadata": {},
   "outputs": [
    {
     "name": "stdout",
     "output_type": "stream",
     "text": [
      "[0. 0. 0. 0.]\n",
      "[0.  0.5 1.  1.5 2.  2.5 3.  3.5]\n",
      "[5 4 3 2]\n",
      "[0 1 2 3 4 5 6 7 8 9]\n",
      "a[2:7:1] =  [2 3 4 5 6]\n",
      "a[2:7:2] =  [2 4 6]\n",
      "a[3:]    =  [3 4 5 6 7 8 9]\n",
      "a[:3]    =  [0 1 2]\n",
      "a[:]     =  [0 1 2 3 4 5 6 7 8 9]\n",
      "a[-1:]     =  [9]\n",
      "a[-2:]     =  [8 9]\n",
      "a[-1:1]     =  []\n"
     ]
    }
   ],
   "source": [
    "import numpy as np    # it is an unofficial standard to use np for numpy\n",
    "import time\n",
    "a = np.zeros(4);                \n",
    "print(a)\n",
    "\n",
    "a = np.arange(0, 4, 0.5);              \n",
    "print(a)\n",
    "\n",
    "a = np.array([5,4,3,2]);  \n",
    "print(a)\n",
    "\n",
    "a= np.arange(10)\n",
    "print(a)\n",
    "\n",
    "c = a[2:7:1];     print(\"a[2:7:1] = \", c)\n",
    "\n",
    "c = a[2:7:2];     print(\"a[2:7:2] = \", c)\n",
    "\n",
    "# access all elements index 3 and above\n",
    "c = a[3:];        print(\"a[3:]    = \", c)\n",
    "\n",
    "# access all elements below index 3\n",
    "c = a[:3];        print(\"a[:3]    = \", c)\n",
    "\n",
    "# access all elements\n",
    "c = a[:];         print(\"a[:]     = \", c)\n",
    "\n",
    "# negative incides\n",
    "c = a[-1:];         print(\"a[-1:]     = \", c)\n",
    "\n",
    "# negative incides\n",
    "c = a[-2:];         print(\"a[-2:]     = \", c)\n"
   ]
  },
  {
   "cell_type": "code",
   "execution_count": 20,
   "id": "2fec2c09-56cf-4d2f-9f7e-7bb359146c5a",
   "metadata": {},
   "outputs": [
    {
     "name": "stdout",
     "output_type": "stream",
     "text": [
      "[0 1 2 3 4 5 6 7 8 9]\n",
      "[0 1 2 3 4 5 6 7 8 9]\n",
      "a+b: [ 0  2  4  6  8 10 12 14 16 18]\n",
      "a*b: [ 0  1  4  9 16 25 36 49 64 81]\n"
     ]
    }
   ],
   "source": [
    "a= np.arange(10)\n",
    "print(a)\n",
    "b= np.arange(10)\n",
    "print(b)\n",
    "print(f\"a+b: {a + b}\")\n",
    "print(f\"a*b: {a * b}\")"
   ]
  },
  {
   "cell_type": "code",
   "execution_count": 22,
   "id": "423c8bdc-338d-4e6b-9e4a-047cd27ea9b2",
   "metadata": {},
   "outputs": [
    {
     "name": "stdout",
     "output_type": "stream",
     "text": [
      "np.dot(a, b) =  2501072.5817\n",
      "Vectorized version duration: 8.2757 ms \n",
      "my_dot(a, b) =  2501072.5817\n",
      "loop version duration: 3526.1729 ms \n"
     ]
    }
   ],
   "source": [
    "def my_dot(a, b): \n",
    "    \"\"\"\n",
    "   Compute the dot product of two vectors\n",
    " \n",
    "    Args:\n",
    "      a (ndarray (n,)):  input vector \n",
    "      b (ndarray (n,)):  input vector with same dimension as a\n",
    "    \n",
    "    Returns:\n",
    "      x (scalar): \n",
    "    \"\"\"\n",
    "    x=0\n",
    "    for i in range(a.shape[0]):\n",
    "        x = x + a[i] * b[i]\n",
    "    return x\n",
    "\n",
    "np.random.seed(1)\n",
    "a = np.random.rand(10000000)  # very large arrays\n",
    "b = np.random.rand(10000000)\n",
    "\n",
    "tic = time.time()  # capture start time\n",
    "c = np.dot(a, b)\n",
    "toc = time.time()  # capture end time\n",
    "\n",
    "print(f\"np.dot(a, b) =  {c:.4f}\")\n",
    "print(f\"Vectorized version duration: {1000*(toc-tic):.4f} ms \")\n",
    "\n",
    "tic = time.time()  # capture start time\n",
    "c = my_dot(a,b)\n",
    "toc = time.time()  # capture end time\n",
    "\n",
    "print(f\"my_dot(a, b) =  {c:.4f}\")\n",
    "print(f\"loop version duration: {1000*(toc-tic):.4f} ms \")\n",
    "\n",
    "del(a);del(b)  #remove these big arrays from memory"
   ]
  },
  {
   "cell_type": "code",
   "execution_count": 35,
   "id": "688cf0ae-8a28-49a0-8b59-d1ff55f66bee",
   "metadata": {},
   "outputs": [
    {
     "name": "stdout",
     "output_type": "stream",
     "text": [
      "[[0. 0. 0. 0. 0.]\n",
      " [0. 0. 0. 0. 0.]]\n",
      "[[120]\n",
      " [100]\n",
      " [101]]\n",
      "[[0 1]\n",
      " [2 3]\n",
      " [4 5]]\n",
      "SLICING\n",
      "[[0 1]\n",
      " [2 3]\n",
      " [4 5]]\n"
     ]
    }
   ],
   "source": [
    "a = np.zeros((2, 5)) \n",
    "print(a)\n",
    "\n",
    "a = np.array([[120], [100], [101]]);\n",
    "print(a)\n",
    "\n",
    "a = np.arange(6).reshape(3, 2)\n",
    "print(a)\n"
   ]
  },
  {
   "cell_type": "code",
   "execution_count": null,
   "id": "4beef51a-5f71-4993-b71a-2145ab23d2e2",
   "metadata": {},
   "outputs": [],
   "source": []
  },
  {
   "cell_type": "code",
   "execution_count": null,
   "id": "f05bf8a6-70ca-4c40-b299-268b1fa5bfdf",
   "metadata": {},
   "outputs": [],
   "source": []
  }
 ],
 "metadata": {
  "kernelspec": {
   "display_name": "Python 3 (ipykernel)",
   "language": "python",
   "name": "python3"
  },
  "language_info": {
   "codemirror_mode": {
    "name": "ipython",
    "version": 3
   },
   "file_extension": ".py",
   "mimetype": "text/x-python",
   "name": "python",
   "nbconvert_exporter": "python",
   "pygments_lexer": "ipython3",
   "version": "3.13.5"
  }
 },
 "nbformat": 4,
 "nbformat_minor": 5
}
