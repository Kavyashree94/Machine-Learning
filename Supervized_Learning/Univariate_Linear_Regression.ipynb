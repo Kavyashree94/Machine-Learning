{
 "cells": [
  {
   "cell_type": "markdown",
   "id": "f1802087-32d5-4357-a5ff-a8e1f61ec478",
   "metadata": {},
   "source": [
    "Code Below provides Implementation about Univariate Linear Regression"
   ]
  },
  {
   "attachments": {},
   "cell_type": "markdown",
   "id": "fc5e06cf-ba80-4e94-b019-15a68309624f",
   "metadata": {},
   "source": [
    "#Model\n",
    "#Fwb(x) = w*x+b\n",
    "\n",
    "#Cost Function \n",
    "#J_w_b = 1/(2*m)*(Summation(Fwb(x) - y)^2) Where Summation runs for m features\n",
    "\n",
    "#Gradient Descent for Univaraite Linear Regression\n",
    "#Repeat below steps untill convergence\n",
    "#tmp_w = w- alpha* Differentiation of J_w_b w.r.t w\n",
    "#tmp_b = b- alpha* Differentiation of J_temp_w_b w.r.t b\n",
    "#w = tmp_w\n",
    "#b = tmp_b\n",
    "\n",
    "\n",
    "dJ/dw = -2/n *(Sum(x(y-ypred)))\n",
    "dJ/db = -2/n *(Sum(y-ypred))\n",
    "\n",
    "\n",
    "\n",
    "An epoch means one full pass through the entire training dataset.\n",
    "\n",
    "If your dataset has 1000 samples, one epoch means the model has seen all 1000 samples once."
   ]
  },
  {
   "cell_type": "code",
   "execution_count": 5,
   "id": "dbeb5cdb-b0fa-4ddd-8ebd-4b4652a475c2",
   "metadata": {},
   "outputs": [],
   "source": [
    "import numpy as np"
   ]
  },
  {
   "cell_type": "code",
   "execution_count": 16,
   "id": "219d9d34-5bf9-4737-861a-7e222b349db8",
   "metadata": {},
   "outputs": [
    {
     "name": "stdout",
     "output_type": "stream",
     "text": [
      "Epoch 0: Loss = 15850.0000, w = 15.5000, b = 12.3000\n",
      "\n",
      "Final model:\n",
      "w = 32.3913, b = 54.7657\n"
     ]
    }
   ],
   "source": [
    "#Input\n",
    "HouseDimension = np.array([1,2,3,4])\n",
    "HousePrices    = np.array([100,200,200,100])\n",
    "w = 10\n",
    "b = 10\n",
    "m = HouseDimension.size #Number of features\n",
    "learning_rate = 0.01\n",
    "epochs = 100\n",
    "\n",
    "# Gradient Descent\n",
    "for epoch in range(epochs):\n",
    "    # Predictions\n",
    "    y_pred = w * HouseDimension + b\n",
    "\n",
    "    # Compute gradients\n",
    "    dw = (-2 / m) * np.sum(HouseDimension * (HousePrices- y_pred))\n",
    "    db = (-2 / m) * np.sum(HousePrices - y_pred)\n",
    "\n",
    "    # Update parameters\n",
    "    w -= learning_rate * dw\n",
    "    b -= learning_rate * db\n",
    "\n",
    "    # Optional: Print loss and parameters\n",
    "    if epoch % 100 == 0:\n",
    "        loss = np.mean((HousePrices - y_pred) ** 2)\n",
    "        print(f\"Epoch {epoch}: Loss = {loss:.4f}, w = {w:.4f}, b = {b:.4f}\")\n",
    "\n",
    "# Final parameters\n",
    "print(\"\\nFinal model:\")\n",
    "print(f\"w = {w:.4f}, b = {b:.4f}\")\n"
   ]
  },
  {
   "cell_type": "code",
   "execution_count": null,
   "id": "30e99976-e2e8-409b-bda1-97799c0a139f",
   "metadata": {},
   "outputs": [],
   "source": []
  }
 ],
 "metadata": {
  "kernelspec": {
   "display_name": "Python 3 (ipykernel)",
   "language": "python",
   "name": "python3"
  },
  "language_info": {
   "codemirror_mode": {
    "name": "ipython",
    "version": 3
   },
   "file_extension": ".py",
   "mimetype": "text/x-python",
   "name": "python",
   "nbconvert_exporter": "python",
   "pygments_lexer": "ipython3",
   "version": "3.13.5"
  }
 },
 "nbformat": 4,
 "nbformat_minor": 5
}
