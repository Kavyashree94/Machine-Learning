{
 "cells": [
  {
   "cell_type": "markdown",
   "id": "3cc0aad6-282b-47c2-8bb9-f12e135e0f6e",
   "metadata": {},
   "source": [
    "Multivariable Linear Regression\n",
    "Fwb(X) = W.X +B"
   ]
  },
  {
   "cell_type": "code",
   "execution_count": 21,
   "id": "0db96953-d347-4023-9b8e-57666b924636",
   "metadata": {},
   "outputs": [
    {
     "name": "stdout",
     "output_type": "stream",
     "text": [
      "(3, 4)\n",
      "(4,)\n",
      "Predicted Y: [44. 74. 60.]\n",
      "COST Function result: 719.824074074074\n"
     ]
    }
   ],
   "source": [
    "import numpy as np\n",
    "\n",
    "House_Dimensions = np.array([[2, 5, 2, 4], [6, 9, 8, 4], [9, 9, 1, 5]])\n",
    "House_Prices = np.array([4, 5, 1])\n",
    "\n",
    "w = np.array([1.,2.,3.,4.])\n",
    "b = 10\n",
    "\n",
    "print(House_Dimensions.shape)\n",
    "print(w.shape)\n",
    "\n",
    "y_pred = np.dot(House_Dimensions, w) + b   \n",
    "print(\"Predicted Y:\",y_pred)\n",
    "\n",
    "#Cost\n",
    "\n",
    "m = House_Dimensions.shape[0]\n",
    "cost = 0.0\n",
    "for i in range(m):                                \n",
    "    f_wb_i = np.dot(House_Dimensions[i], w) + b           #(n,)(n,) = scalar (see np.dot)\n",
    "    cost = cost + (f_wb_i - House_Prices[i])**2       #scalar\n",
    "    cost = cost / (2 * m)                      #scalar    \n",
    "\n",
    "print(\"COST Function result:\",cost)"
   ]
  },
  {
   "cell_type": "code",
   "execution_count": 22,
   "id": "53b52cd2-db7b-4d98-a06b-a46095deb539",
   "metadata": {},
   "outputs": [
    {
     "name": "stdout",
     "output_type": "stream",
     "text": [
      "Epoch 0: Loss = 3280.6667, Weights = [0.99931667 1.99909867 2.99953933 3.99951267], Bias = 9.9999\n",
      "Epoch 100: Loss = 3111.0643, Weights = [0.93192074 1.9101712  2.95406887 3.95142545], Bias = 9.9888\n",
      "Epoch 200: Loss = 2950.3034, Weights = [0.86634809 1.82358922 2.90975811 3.90459496], Bias = 9.9781\n",
      "Epoch 300: Loss = 2797.9230, Weights = [0.80255049 1.73929074 2.8665765  3.85898799], Bias = 9.9676\n",
      "Epoch 400: Loss = 2653.4861, Weights = [0.74048099 1.65721544 2.82449431 3.81457221], Bias = 9.9574\n",
      "Epoch 500: Loss = 2516.5783, Weights = [0.68009386 1.57730456 2.78348257 3.77131613], Bias = 9.9474\n",
      "Epoch 600: Loss = 2386.8071, Weights = [0.6213446  1.49950091 2.74351309 3.7291891 ], Bias = 9.9377\n",
      "Epoch 700: Loss = 2263.8003, Weights = [0.56418989 1.42374882 2.70455841 3.68816129], Bias = 9.9283\n",
      "Epoch 800: Loss = 2147.2052, Weights = [0.50858753 1.34999407 2.66659182 3.64820364], Bias = 9.9191\n",
      "Epoch 900: Loss = 2036.6875, Weights = [0.45449645 1.27818388 2.6295873  3.60928787], Bias = 9.9101\n",
      "\n",
      "Trained Weights: [0.40239571 1.20895683 2.59387563 3.57176052]\n",
      "Trained Bias: 9.901456179363505\n"
     ]
    }
   ],
   "source": [
    "# Hyperparameters\n",
    "learning_rate = 0.000001\n",
    "epochs = 1000\n",
    "\n",
    "# Gradient Descent Loop\n",
    "for epoch in range(epochs):\n",
    "    # Predict: ŷ = Xw + b\n",
    "    y_pred = House_Dimensions.dot(w) + b  # Shape: (3,)\n",
    "\n",
    "    # Compute gradients\n",
    "    dw = (-2 / m) * House_Dimensions.T.dot(House_Prices - y_pred)  # Shape: (4,)\n",
    "    db = (-2 / m) * np.sum(House_Prices - y_pred)   # Scalar\n",
    "\n",
    "    # Update weights and bias\n",
    "    w -= learning_rate * dw\n",
    "    b -= learning_rate * db\n",
    "\n",
    "    # Optional: Print every 100 epochs\n",
    "    if epoch % 100 == 0:\n",
    "        loss = np.mean((House_Prices - y_pred) ** 2)\n",
    "        print(f\"Epoch {epoch}: Loss = {loss:.4f}, Weights = {w}, Bias = {b:.4f}\")\n",
    "\n",
    "# Final result\n",
    "print(\"\\nTrained Weights:\", w)\n",
    "print(\"Trained Bias:\", b)"
   ]
  },
  {
   "cell_type": "code",
   "execution_count": null,
   "id": "534b2234-15d8-4cd2-86e9-97a356bf7ab2",
   "metadata": {},
   "outputs": [],
   "source": []
  }
 ],
 "metadata": {
  "kernelspec": {
   "display_name": "Python 3 (ipykernel)",
   "language": "python",
   "name": "python3"
  },
  "language_info": {
   "codemirror_mode": {
    "name": "ipython",
    "version": 3
   },
   "file_extension": ".py",
   "mimetype": "text/x-python",
   "name": "python",
   "nbconvert_exporter": "python",
   "pygments_lexer": "ipython3",
   "version": "3.13.5"
  }
 },
 "nbformat": 4,
 "nbformat_minor": 5
}
